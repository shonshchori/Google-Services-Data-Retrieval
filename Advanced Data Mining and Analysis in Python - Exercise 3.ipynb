{
 "cells":[
  {
   "cell_type":"markdown",
   "source":[
    "# Advanced Data Mining and Analysis in Python\n",
    "## Using Google Distance Matrix API\n",
    "### In this exercise, we will be writing a Python code to retrieve information about a list of destinations, using Google API Distance Matrix and Geocode Services.\n",
    "\n",
    "**The information we will retrieve includes the distance, time, longitude, and latitude of each destination in relation to Tel Aviv.**  \n",
    "\n",
    "**We will then store the data in a dataframe and print its contents. Finally, we will find the three cities that are furthest from Tel Aviv.**"
   ],
   "attachments":{
    
   },
   "metadata":{
    "datalore":{
     "node_id":"jUoz7G6KTskZGmQblfE9Zs",
     "type":"MD",
     "hide_input_from_viewers":true,
     "hide_output_from_viewers":true
    }
   }
  },
  {
   "cell_type":"code",
   "source":[
    "import pandas as pd\n",
    "import numpy as np\n",
    "import requests\n",
    "import json\n",
    "import urllib\n",
    "from urllib.error import HTTPError\n",
    "import pprint"
   ],
   "execution_count":4,
   "outputs":[
    
   ],
   "metadata":{
    "datalore":{
     "node_id":"H9bJukSBda8Pil0suSNDM8",
     "type":"CODE",
     "hide_input_from_viewers":true,
     "hide_output_from_viewers":true
    }
   }
  },
  {
   "cell_type":"code",
   "source":[
    "# Read the file and insert the cities into 'destinations' list.\n",
    "FILE_PATH = '\/data\/notebook_files\/dests.txt'\n",
    "file =  open(FILE_PATH, 'r')\n",
    "destinations = [i.rstrip() for i in file.readlines()]"
   ],
   "execution_count":5,
   "outputs":[
    
   ],
   "metadata":{
    "datalore":{
     "node_id":"GC54CbCYX8sDVq0Xr34RoW",
     "type":"CODE",
     "hide_input_from_viewers":true,
     "hide_output_from_viewers":true
    }
   }
  },
  {
   "cell_type":"markdown",
   "source":[
    "### First, we'll write a function to get the distance and the duration between the destination and Tel Aviv."
   ],
   "attachments":{
    
   },
   "metadata":{
    "datalore":{
     "node_id":"4APzsumGw9kz26asKwyeQU",
     "type":"MD",
     "hide_input_from_viewers":true,
     "hide_output_from_viewers":true
    }
   }
  },
  {
   "cell_type":"code",
   "source":[
    "api_key = 'YOUR_API_KEY' #HERE PUT YOUR OWN API_KEY\n",
    "def get_distance_from_tlv(destination,api_key):\n",
    "    origin = 'Tel Aviv'\n",
    "    try:\n",
    "        url = 'https:\/\/maps.googleapis.com\/maps\/api\/distancematrix\/json?destinations=%s&origins=%s&units=metric&key=%s'\\\n",
    "            % (destination,origin,api_key)\n",
    "        response = requests.get(url).json()  # if the response is of json format the .json() will load the json into a python object\n",
    "        distance = response['rows'][0]['elements'][0]['distance']['text']\n",
    "        time = response['rows'][0]['elements'][0]['duration']['value']\/60\n",
    "        time = int(time)\n",
    "        hours, minutes = divmod(time, 60)  # calculate hours and remaining minutes\n",
    "        duration = f\"{hours} hours, {minutes} minutes\"  # format the duration string\n",
    "        return distance, duration\n",
    "    except:\n",
    "        print(f'Something went wrong')"
   ],
   "execution_count":6,
   "outputs":[
    
   ],
   "metadata":{
    "datalore":{
     "node_id":"ZJsamJfze3wAC5aiBheiGx",
     "type":"CODE",
     "hide_input_from_viewers":true,
     "hide_output_from_viewers":true
    }
   }
  },
  {
   "cell_type":"markdown",
   "source":[
    "**Let's see an example:**"
   ],
   "attachments":{
    
   },
   "metadata":{
    "datalore":{
     "node_id":"eDiiKxftsL5VaSzq6VXOMJ",
     "type":"MD",
     "hide_input_from_viewers":true,
     "hide_output_from_viewers":true
    }
   }
  },
  {
   "cell_type":"code",
   "source":[
    "get_distance_from_tlv('Barcelona', api_key)"
   ],
   "execution_count":7,
   "outputs":[
    {
     "data":{
      "text\/plain":[
       "('4,748 km', '50 hours, 22 minutes')"
      ]
     },
     "metadata":{
      
     },
     "output_type":"display_data"
    }
   ],
   "metadata":{
    "datalore":{
     "node_id":"kTTduswKMxD5eNbTnjWhpa",
     "type":"CODE",
     "hide_input_from_viewers":true,
     "hide_output_from_viewers":true
    }
   }
  },
  {
   "cell_type":"markdown",
   "source":[
    "### Now, we'll get the longitude and latitude of the destination."
   ],
   "attachments":{
    
   },
   "metadata":{
    "datalore":{
     "node_id":"TGUaBrqoHg1g96PCuMQCJY",
     "type":"MD",
     "hide_input_from_viewers":true,
     "hide_output_from_viewers":true
    }
   }
  },
  {
   "cell_type":"code",
   "source":[
    "def get_lat_lng(address_string,api_key):\n",
    "    url=\"https:\/\/maps.googleapis.com\/maps\/api\/geocode\/json?address=%s&key=%s\" % (address_string,api_key)\n",
    "    response = requests.get(url).json()\n",
    "    longitude = response['results'][0]['geometry']['location']['lng']\n",
    "    latitude = response['results'][0]['geometry']['location']['lat']\n",
    "    return longitude, latitude"
   ],
   "execution_count":8,
   "outputs":[
    
   ],
   "metadata":{
    "datalore":{
     "node_id":"qXPyc00CNevIpwCOqQ52Sx",
     "type":"CODE",
     "hide_input_from_viewers":true,
     "hide_output_from_viewers":true
    }
   }
  },
  {
   "cell_type":"markdown",
   "source":[
    "**Let's see an example:**"
   ],
   "attachments":{
    
   },
   "metadata":{
    "datalore":{
     "node_id":"BEpyWMLPDmFXjLoYQ5Cgvr",
     "type":"MD",
     "hide_input_from_viewers":true,
     "hide_output_from_viewers":true
    }
   }
  },
  {
   "cell_type":"code",
   "source":[
    "get_lat_lng('Barcelona',api_key)"
   ],
   "execution_count":9,
   "outputs":[
    {
     "data":{
      "text\/plain":[
       "(2.168568, 41.3873974)"
      ]
     },
     "metadata":{
      
     },
     "output_type":"display_data"
    }
   ],
   "metadata":{
    "datalore":{
     "node_id":"tK6Av87F4o7lvCzYt7t68D",
     "type":"CODE",
     "hide_input_from_viewers":true,
     "hide_output_from_viewers":true
    }
   }
  },
  {
   "cell_type":"markdown",
   "source":[
    "### Now, we'll use our functions in order to create the desired DataFrame:"
   ],
   "attachments":{
    
   },
   "metadata":{
    "datalore":{
     "node_id":"qonFhAg1XhBej9iVeqFuaM",
     "type":"MD",
     "hide_input_from_viewers":true,
     "hide_output_from_viewers":true
    }
   }
  },
  {
   "cell_type":"code",
   "source":[
    "dataset = pd.DataFrame(columns=['Target','Distance_km','Duration','Longitude','Latitude'])\n",
    "dataset.Target = destinations\n",
    "distance_features = ['Distance_km','Duration']\n",
    "loc_features = ['Longitude','Latitude']\n",
    "dataset[distance_features] = dataset['Target'].apply(lambda x: pd.Series(get_distance_from_tlv(x,api_key)))\n",
    "dataset[loc_features] = dataset['Target'].apply(lambda x: pd.Series(get_lat_lng(x,api_key)))"
   ],
   "execution_count":10,
   "outputs":[
    
   ],
   "metadata":{
    "datalore":{
     "node_id":"Sn1U6N4GvxTDtQsS8guDJY",
     "type":"CODE",
     "hide_input_from_viewers":true,
     "hide_output_from_viewers":true
    }
   }
  },
  {
   "cell_type":"code",
   "source":[
    "dataset"
   ],
   "execution_count":11,
   "outputs":[
    {
     "data":{
      "text\/html":[
       "<div>\n",
       "<style scoped>\n",
       "    .dataframe tbody tr th:only-of-type {\n",
       "        vertical-align: middle;\n",
       "    }\n",
       "\n",
       "    .dataframe tbody tr th {\n",
       "        vertical-align: top;\n",
       "    }\n",
       "\n",
       "    .dataframe thead th {\n",
       "        text-align: right;\n",
       "    }\n",
       "<\/style>\n",
       "<table border=\"1\" class=\"dataframe\">\n",
       "  <thead>\n",
       "    <tr style=\"text-align: right;\">\n",
       "      <th><\/th>\n",
       "      <th>Target<\/th>\n",
       "      <th>Distance_km<\/th>\n",
       "      <th>Duration<\/th>\n",
       "      <th>Longitude<\/th>\n",
       "      <th>Latitude<\/th>\n",
       "    <\/tr>\n",
       "  <\/thead>\n",
       "  <tbody>\n",
       "    <tr>\n",
       "      <th>0<\/th>\n",
       "      <td>Istanbul<\/td>\n",
       "      <td>1,815 km<\/td>\n",
       "      <td>21 hours, 2 minutes<\/td>\n",
       "      <td>28.978359<\/td>\n",
       "      <td>41.008238<\/td>\n",
       "    <\/tr>\n",
       "    <tr>\n",
       "      <th>1<\/th>\n",
       "      <td>Amsterdam<\/td>\n",
       "      <td>4,533 km<\/td>\n",
       "      <td>48 hours, 3 minutes<\/td>\n",
       "      <td>4.904139<\/td>\n",
       "      <td>52.367573<\/td>\n",
       "    <\/tr>\n",
       "    <tr>\n",
       "      <th>2<\/th>\n",
       "      <td>Valletta<\/td>\n",
       "      <td>3,793 km<\/td>\n",
       "      <td>50 hours, 51 minutes<\/td>\n",
       "      <td>14.514100<\/td>\n",
       "      <td>35.899237<\/td>\n",
       "    <\/tr>\n",
       "    <tr>\n",
       "      <th>3<\/th>\n",
       "      <td>Basel<\/td>\n",
       "      <td>4,093 km<\/td>\n",
       "      <td>44 hours, 2 minutes<\/td>\n",
       "      <td>7.588576<\/td>\n",
       "      <td>47.559599<\/td>\n",
       "    <\/tr>\n",
       "    <tr>\n",
       "      <th>4<\/th>\n",
       "      <td>Doha<\/td>\n",
       "      <td>2,164 km<\/td>\n",
       "      <td>22 hours, 38 minutes<\/td>\n",
       "      <td>51.531040<\/td>\n",
       "      <td>25.285447<\/td>\n",
       "    <\/tr>\n",
       "  <\/tbody>\n",
       "<\/table>\n",
       "<\/div>"
      ]
     },
     "metadata":{
      
     },
     "output_type":"display_data"
    }
   ],
   "metadata":{
    "datalore":{
     "node_id":"yRWUvoU816KyLWHXzue6ld",
     "type":"CODE",
     "hide_input_from_viewers":true,
     "hide_output_from_viewers":true
    }
   }
  },
  {
   "cell_type":"markdown",
   "source":[
    "### Finally, we'll retrieve the three furthest cities from Tel Aviv."
   ],
   "attachments":{
    
   },
   "metadata":{
    "datalore":{
     "node_id":"xtOm81LEvX1mAG7Zmbh1hB",
     "type":"MD",
     "hide_input_from_viewers":true,
     "hide_output_from_viewers":true
    }
   }
  },
  {
   "cell_type":"code",
   "source":[
    "dataset.sort_values(by = 'Distance_km', ascending = False, inplace = True)"
   ],
   "execution_count":12,
   "outputs":[
    
   ],
   "metadata":{
    "datalore":{
     "node_id":"tEtqfm6FUzvWiOzQ8TVpkG",
     "type":"CODE",
     "hide_input_from_viewers":true,
     "hide_output_from_viewers":true
    }
   }
  },
  {
   "cell_type":"code",
   "source":[
    "furthest_cities = [city for city in dataset.head(3).Target]\n",
    "furthest_cities = ', '.join(furthest_cities)\n",
    "print(f'The three furthest cities from Tel Aviv are: {furthest_cities}')"
   ],
   "execution_count":13,
   "outputs":[
    {
     "name":"stdout",
     "text":[
      "The three furthest cities from Tel Aviv are: Amsterdam, Basel, Valletta\n"
     ],
     "output_type":"stream"
    }
   ],
   "metadata":{
    "datalore":{
     "node_id":"Qbz9EpTxt1cZCQISq53pEF",
     "type":"CODE",
     "hide_input_from_viewers":true,
     "hide_output_from_viewers":true
    }
   }
  }
 ],
 "metadata":{
  "kernelspec":{
   "display_name":"Python",
   "language":"python",
   "name":"python"
  },
  "datalore":{
   "computation_mode":"JUPYTER",
   "package_manager":"pip",
   "base_environment":"default",
   "packages":[
    
   ],
   "report_row_ids":[
    
   ],
   "version":3
  }
 },
 "nbformat":4,
 "nbformat_minor":4
}